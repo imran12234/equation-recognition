{
 "cells": [
  {
   "cell_type": "code",
   "execution_count": 1,
   "metadata": {},
   "outputs": [
    {
     "name": "stdout",
     "output_type": "stream",
     "text": [
      "Using: mps\n"
     ]
    }
   ],
   "source": [
    "import os\n",
    "import torch\n",
    "import torch.nn as nn\n",
    "import torch.optim as optim\n",
    "from torchvision import transforms\n",
    "from torch.utils.data import Dataset, DataLoader\n",
    "from PIL import Image\n",
    "import matplotlib.pyplot as plt\n",
    "import random\n",
    "\n",
    "# Device setup\n",
    "DEVICE = torch.device(\"mps\" if torch.backends.mps.is_available() else \"cpu\")\n",
    "print(\"Using:\", DEVICE)\n",
    "\n",
    "# Class mapping\n",
    "CHAR_CLASSES = ['0', '1', '2', '3', '4', '5', '6', '7', '8', '9', 'plus', 'minus', 'mul', 'div', 'eq']\n",
    "CHAR_TO_IDX = {c: i for i, c in enumerate(CHAR_CLASSES)}\n",
    "IDX_TO_CHAR = {i: c for c, i in CHAR_TO_IDX.items()}\n"
   ]
  },
  {
   "cell_type": "code",
   "execution_count": 2,
   "metadata": {},
   "outputs": [],
   "source": [
    "import os\n",
    "import re\n",
    "from torch.utils.data import Dataset\n",
    "from PIL import Image\n",
    "import torch\n",
    "\n",
    "class EquationDataset(Dataset):\n",
    "    def __init__(self, folder_path, transform=None):\n",
    "        self.paths = [os.path.join(folder_path, f) for f in os.listdir(folder_path)]\n",
    "        self.transform = transform\n",
    "\n",
    "    def __len__(self):\n",
    "        return len(self.paths)\n",
    "\n",
    "    def __getitem__(self, idx):\n",
    "        img_path = self.paths[idx]\n",
    "        img = Image.open(img_path).convert(\"L\")\n",
    "        if self.transform:\n",
    "            img = self.transform(img)\n",
    "\n",
    "        # Extract base name before _ (e.g. \"2plus3eq5\" from \"2plus3eq5_53.png\")\n",
    "        name = os.path.basename(img_path).split(\"_\")[0]\n",
    "\n",
    "        # Parse into tokens: digits and operators\n",
    "        tokens = re.findall(r'(plus|minus|mul|div|eq|\\d)', name)\n",
    "\n",
    "        # Ensure exactly 5 tokens (A op B = C)\n",
    "        if len(tokens) != 5:\n",
    "            raise ValueError(f\"Invalid label in file: {img_path}\")\n",
    "\n",
    "        # Convert tokens to indices\n",
    "        label = [CHAR_TO_IDX[t] for t in tokens]\n",
    "        return img, torch.tensor(label)\n"
   ]
  },
  {
   "cell_type": "code",
   "execution_count": 3,
   "metadata": {},
   "outputs": [],
   "source": [
    "class EquationCNN(nn.Module):\n",
    "    def __init__(self, num_classes):\n",
    "        super().__init__()\n",
    "        self.features = nn.Sequential(\n",
    "            nn.Conv2d(1, 32, 3, padding=1), nn.ReLU(),\n",
    "            nn.MaxPool2d(2),\n",
    "            nn.Conv2d(32, 64, 3, padding=1), nn.ReLU(),\n",
    "            nn.MaxPool2d(2),\n",
    "            nn.Flatten()\n",
    "        )\n",
    "        self.classifier1 = nn.Linear(64 * 7 * 7, num_classes)\n",
    "        self.classifier2 = nn.Linear(64 * 7 * 7, num_classes)\n",
    "        self.classifier3 = nn.Linear(64 * 7 * 7, num_classes)\n",
    "        self.classifier4 = nn.Linear(64 * 7 * 7, num_classes)\n",
    "        self.classifier5 = nn.Linear(64 * 7 * 7, num_classes)\n",
    "\n",
    "    def forward(self, x):\n",
    "        x = self.features(x)\n",
    "        return [self.classifier1(x), self.classifier2(x),\n",
    "                self.classifier3(x), self.classifier4(x),\n",
    "                self.classifier5(x)]\n"
   ]
  },
  {
   "cell_type": "code",
   "execution_count": 4,
   "metadata": {},
   "outputs": [],
   "source": [
    "transform = transforms.Compose([\n",
    "    transforms.Resize((28, 28)),\n",
    "    transforms.ToTensor()\n",
    "])\n",
    "\n",
    "# Load dataset\n",
    "dataset = EquationDataset(\"../data/equations\", transform=transform)\n",
    "\n",
    "# Split into train and test sets (80/20)\n",
    "from torch.utils.data import random_split\n",
    "train_size = int(0.8 * len(dataset))\n",
    "test_size = len(dataset) - train_size\n",
    "train_set, test_set = random_split(dataset, [train_size, test_size])\n",
    "\n",
    "# Create DataLoaders\n",
    "train_loader = DataLoader(train_set, batch_size=32, shuffle=True, num_workers=0)\n",
    "test_loader = DataLoader(test_set, batch_size=1, shuffle=False, num_workers=0)\n"
   ]
  },
  {
   "cell_type": "code",
   "execution_count": 5,
   "metadata": {},
   "outputs": [],
   "source": [
    "train_size = int(0.8 * len(dataset))\n",
    "test_size = len(dataset) - train_size\n",
    "train_set, test_set = random_split(dataset, [train_size, test_size])"
   ]
  },
  {
   "cell_type": "code",
   "execution_count": 6,
   "metadata": {},
   "outputs": [
    {
     "name": "stdout",
     "output_type": "stream",
     "text": [
      "tensor([ 4, 12,  1, 14,  4])\n"
     ]
    }
   ],
   "source": [
    "img, label = dataset[0]\n",
    "print(label)\n"
   ]
  },
  {
   "cell_type": "code",
   "execution_count": 7,
   "metadata": {},
   "outputs": [
    {
     "data": {
      "text/plain": [
       "2031"
      ]
     },
     "execution_count": 7,
     "metadata": {},
     "output_type": "execute_result"
    }
   ],
   "source": [
    "len(dataset)"
   ]
  },
  {
   "cell_type": "code",
   "execution_count": 8,
   "metadata": {},
   "outputs": [
    {
     "name": "stdout",
     "output_type": "stream",
     "text": [
      "Epoch 1 - Loss: 8.0083\n",
      "Epoch 2 - Loss: 5.4950\n",
      "Epoch 3 - Loss: 2.6795\n",
      "Epoch 4 - Loss: 1.6700\n",
      "Epoch 5 - Loss: 1.2240\n",
      "Epoch 6 - Loss: 0.9010\n",
      "Epoch 7 - Loss: 0.7131\n",
      "Epoch 8 - Loss: 0.5785\n",
      "Epoch 9 - Loss: 0.4448\n",
      "Epoch 10 - Loss: 0.4260\n",
      "Epoch 11 - Loss: 0.3355\n",
      "Epoch 12 - Loss: 0.2632\n",
      "Epoch 13 - Loss: 0.2262\n",
      "Epoch 14 - Loss: 0.1883\n",
      "Epoch 15 - Loss: 0.1336\n",
      "Epoch 16 - Loss: 0.1245\n",
      "Epoch 17 - Loss: 0.1042\n",
      "Epoch 18 - Loss: 0.0851\n",
      "Epoch 19 - Loss: 0.0735\n",
      "Epoch 20 - Loss: 0.0570\n",
      "Epoch 21 - Loss: 0.0486\n",
      "Epoch 22 - Loss: 0.0422\n",
      "Epoch 23 - Loss: 0.0337\n",
      "Epoch 24 - Loss: 0.0275\n",
      "Epoch 25 - Loss: 0.0210\n",
      "Epoch 26 - Loss: 0.0162\n",
      "Epoch 27 - Loss: 0.0150\n",
      "Epoch 28 - Loss: 0.0125\n",
      "Epoch 29 - Loss: 0.0114\n",
      "Epoch 30 - Loss: 0.0104\n",
      "Epoch 31 - Loss: 0.0099\n",
      "Epoch 32 - Loss: 0.0092\n",
      "Epoch 33 - Loss: 0.0082\n",
      "Epoch 34 - Loss: 0.0075\n",
      "Epoch 35 - Loss: 0.0064\n",
      "Epoch 36 - Loss: 0.0059\n",
      "Epoch 37 - Loss: 0.0056\n",
      "Epoch 38 - Loss: 0.0049\n",
      "Epoch 39 - Loss: 0.0045\n",
      "Epoch 40 - Loss: 0.0043\n",
      "Epoch 41 - Loss: 0.0039\n",
      "Epoch 42 - Loss: 0.0037\n",
      "Epoch 43 - Loss: 0.0035\n",
      "Epoch 44 - Loss: 0.0032\n",
      "Epoch 45 - Loss: 0.0030\n",
      "Epoch 46 - Loss: 0.0028\n",
      "Epoch 47 - Loss: 0.0027\n",
      "Epoch 48 - Loss: 0.0025\n",
      "Epoch 49 - Loss: 0.0023\n",
      "Epoch 50 - Loss: 0.0023\n",
      "Epoch 51 - Loss: 0.0021\n",
      "Epoch 52 - Loss: 0.0020\n",
      "Epoch 53 - Loss: 0.0019\n",
      "Epoch 54 - Loss: 0.0018\n",
      "Epoch 55 - Loss: 0.0018\n",
      "Epoch 56 - Loss: 0.0017\n",
      "Epoch 57 - Loss: 0.0016\n",
      "Epoch 58 - Loss: 0.0016\n",
      "Epoch 59 - Loss: 0.0014\n",
      "Epoch 60 - Loss: 0.0014\n",
      "Epoch 61 - Loss: 0.0013\n",
      "Epoch 62 - Loss: 0.0013\n",
      "Epoch 63 - Loss: 0.0012\n",
      "Epoch 64 - Loss: 0.0011\n",
      "Epoch 65 - Loss: 0.0011\n",
      "Epoch 66 - Loss: 0.0010\n",
      "Epoch 67 - Loss: 0.0010\n",
      "Epoch 68 - Loss: 0.0009\n",
      "Epoch 69 - Loss: 0.0009\n",
      "Epoch 70 - Loss: 0.0008\n"
     ]
    }
   ],
   "source": [
    "model = EquationCNN(num_classes=len(CHAR_CLASSES)).to(DEVICE)\n",
    "criterion = nn.CrossEntropyLoss()\n",
    "optimizer = optim.Adam(model.parameters(), lr=0.001)\n",
    "\n",
    "for epoch in range(70):\n",
    "    model.train()\n",
    "    total_loss = 0\n",
    "    for images, labels in train_loader:\n",
    "        images, labels = images.to(DEVICE), labels.to(DEVICE)\n",
    "        outputs = model(images)\n",
    "\n",
    "        loss = sum(criterion(output, labels[:, i]) for i, output in enumerate(outputs))\n",
    "\n",
    "        optimizer.zero_grad()\n",
    "        loss.backward()\n",
    "        optimizer.step()\n",
    "        total_loss += loss.item()\n",
    "    print(f\"Epoch {epoch+1} - Loss: {total_loss / len(train_loader):.4f}\")\n"
   ]
  },
  {
   "cell_type": "code",
   "execution_count": 9,
   "metadata": {},
   "outputs": [
    {
     "name": "stdout",
     "output_type": "stream",
     "text": [
      "✅ Test accuracy: 357/407 (87.71%)\n",
      "❌ Predicted: 4plus3eq6  |  True: 4plus2eq6\n",
      "❌ Predicted: 3plus4eq9  |  True: 3plus4eq7\n",
      "❌ Predicted: 3minus1eq2  |  True: 5minus3eq2\n",
      "❌ Predicted: 1mul1eq6  |  True: 1mul6eq6\n",
      "❌ Predicted: 5minus3eq0  |  True: 3minus3eq0\n",
      "❌ Predicted: 2minus1eq1  |  True: 9minus1eq8\n",
      "❌ Predicted: 5plus4eq7  |  True: 3plus4eq7\n",
      "❌ Predicted: 1minus4eq1  |  True: 1minus0eq1\n",
      "❌ Predicted: 9minus9eq0  |  True: 7minus7eq0\n",
      "❌ Predicted: 8minus0eq2  |  True: 2minus0eq2\n",
      "❌ Predicted: 0mul1eq0  |  True: 0mul8eq0\n",
      "❌ Predicted: 0plus0eq6  |  True: 6plus0eq6\n",
      "❌ Predicted: 2plus1eq8  |  True: 2plus1eq3\n",
      "❌ Predicted: 0plus1eq8  |  True: 0plus8eq8\n",
      "❌ Predicted: 9minus0eq2  |  True: 2minus0eq2\n",
      "❌ Predicted: 2plus6eq9  |  True: 3plus6eq9\n",
      "❌ Predicted: 4minus3eq7  |  True: 6minus3eq3\n",
      "❌ Predicted: 5plus6eq9  |  True: 5plus4eq9\n",
      "❌ Predicted: 6mul0eq6  |  True: 6mul0eq0\n",
      "❌ Predicted: 9minus1eq6  |  True: 7minus1eq6\n",
      "❌ Predicted: 9mul1eq5  |  True: 5mul1eq5\n",
      "❌ Predicted: 0plus0eq9  |  True: 0plus9eq9\n",
      "❌ Predicted: 9minus1eq6  |  True: 7minus1eq6\n",
      "❌ Predicted: 1plus8eq3  |  True: 1plus2eq3\n",
      "❌ Predicted: 5plus2eq5  |  True: 3plus2eq5\n",
      "❌ Predicted: 1mul1eq8  |  True: 1mul8eq8\n",
      "❌ Predicted: 1mul7eq3  |  True: 1mul3eq3\n",
      "❌ Predicted: 7minus2eq7  |  True: 9minus2eq7\n",
      "❌ Predicted: 3mul0eq0  |  True: 5mul0eq0\n",
      "❌ Predicted: 4minus5eq4  |  True: 9minus5eq4\n",
      "❌ Predicted: 6minus1eq0  |  True: 6minus6eq0\n",
      "❌ Predicted: 9minus3eq7  |  True: 9minus2eq7\n",
      "❌ Predicted: 0plus1eq8  |  True: 0plus8eq8\n",
      "❌ Predicted: 5mul3eq9  |  True: 3mul3eq9\n",
      "❌ Predicted: 4minus1eq1  |  True: 2minus1eq1\n",
      "❌ Predicted: 4plus2eq7  |  True: 4plus3eq7\n",
      "❌ Predicted: 2minus2eq2  |  True: 3minus2eq1\n",
      "❌ Predicted: 0plus4eq9  |  True: 0plus9eq9\n",
      "❌ Predicted: 9minus5eq9  |  True: 9minus5eq4\n",
      "❌ Predicted: 4plus3eq9  |  True: 4plus3eq7\n",
      "❌ Predicted: 1mul3eq5  |  True: 1mul3eq3\n",
      "❌ Predicted: 2mul4eq6  |  True: 2mul4eq8\n",
      "❌ Predicted: 6plus3eq7  |  True: 2plus5eq7\n",
      "❌ Predicted: 1plus4eq7  |  True: 1plus6eq7\n",
      "❌ Predicted: 9minus2eq0  |  True: 7minus7eq0\n",
      "❌ Predicted: 3plus1eq6  |  True: 5plus1eq6\n",
      "❌ Predicted: 0plus2eq4  |  True: 0plus2eq2\n",
      "❌ Predicted: 2plus2eq9  |  True: 2plus2eq4\n",
      "❌ Predicted: 2plus1eq9  |  True: 8plus1eq9\n",
      "❌ Predicted: 9minus6eq3  |  True: 7minus4eq3\n"
     ]
    }
   ],
   "source": [
    "correct = 0\n",
    "total = 0\n",
    "\n",
    "model.eval()\n",
    "with torch.no_grad():\n",
    "    for img, label in test_loader:\n",
    "        img = img.to(DEVICE)\n",
    "        label = label.to(DEVICE)\n",
    "        outputs = model(img)\n",
    "        preds = torch.stack([torch.argmax(o, dim=1) for o in outputs], dim=1)\n",
    "        correct += (preds == label).all(dim=1).sum().item()\n",
    "        total += label.size(0)\n",
    "\n",
    "print(f\"✅ Test accuracy: {correct}/{total} ({100 * correct / total:.2f}%)\")\n",
    "# View incorrect predictions from test set\n",
    "for img, label in test_loader:\n",
    "    img = img.to(DEVICE)\n",
    "    label = label.to(DEVICE)\n",
    "    with torch.no_grad():\n",
    "        outputs = model(img)\n",
    "        pred = torch.stack([torch.argmax(o, dim=1) for o in outputs], dim=1)\n",
    "        if not torch.equal(pred, label):\n",
    "            true_str = ''.join(IDX_TO_CHAR[i.item()] for i in label[0])\n",
    "            pred_str = ''.join(IDX_TO_CHAR[i.item()] for i in pred[0])\n",
    "            print(f\"❌ Predicted: {pred_str}  |  True: {true_str}\")\n"
   ]
  },
  {
   "cell_type": "code",
   "execution_count": 10,
   "metadata": {},
   "outputs": [
    {
     "name": "stdout",
     "output_type": "stream",
     "text": [
      "✅ Model saved\n"
     ]
    }
   ],
   "source": [
    "torch.save(model.state_dict(), \"equation_model.pt\")\n",
    "print(\"✅ Model saved\")\n"
   ]
  },
  {
   "cell_type": "code",
   "execution_count": 11,
   "metadata": {},
   "outputs": [
    {
     "data": {
      "image/png": "[encoded data removed]",
      "text/plain": [
       "<Figure size 640x480 with 1 Axes>"
      ]
     },
     "metadata": {},
     "output_type": "display_data"
    },
    {
     "data": {
      "image/png": "[encoded data removed]",
      "text/plain": [
       "<Figure size 640x480 with 1 Axes>"
      ]
     },
     "metadata": {},
     "output_type": "display_data"
    },
    {
     "data": {
      "image/png": "[encoded data removed]",
      "text/plain": [
       "<Figure size 640x480 with 1 Axes>"
      ]
     },
     "metadata": {},
     "output_type": "display_data"
    },
    {
     "data": {
      "image/png": "[encoded data removed]",
      "text/plain": [
       "<Figure size 640x480 with 1 Axes>"
      ]
     },
     "metadata": {},
     "output_type": "display_data"
    },
    {
     "data": {
      "image/png": "[encoded data removed]",
      "text/plain": [
       "<Figure size 640x480 with 1 Axes>"
      ]
     },
     "metadata": {},
     "output_type": "display_data"
    }
   ],
   "source": [
    "import matplotlib.pyplot as plt\n",
    "\n",
    "def predict(img_tensor):\n",
    "    model.eval()\n",
    "    with torch.no_grad():\n",
    "        img_tensor = img_tensor.unsqueeze(0).to(DEVICE)\n",
    "        outputs = model(img_tensor)\n",
    "        preds = [torch.argmax(out, dim=1).item() for out in outputs]\n",
    "        return ''.join([IDX_TO_CHAR[p] for p in preds])\n",
    "\n",
    "# Show 5 random predictions\n",
    "for i in range(5):\n",
    "    idx = random.randint(0, len(dataset) - 1)\n",
    "    img, label = dataset[idx]\n",
    "    pred = predict(img)\n",
    "    label_str = ''.join([IDX_TO_CHAR[x.item()] for x in label])\n",
    "\n",
    "    plt.imshow(img.squeeze(), cmap='gray')\n",
    "    plt.title(f\"Predicted: {pred} | True: {label_str}\")\n",
    "    plt.axis(\"off\")\n",
    "    plt.show()\n"
   ]
  }
 ],
 "metadata": {
  "kernelspec": {
   "display_name": "base",
   "language": "python",
   "name": "python3"
  },
  "language_info": {
   "codemirror_mode": {
    "name": "ipython",
    "version": 3
   },
   "file_extension": ".py",
   "mimetype": "text/x-python",
   "name": "python",
   "nbconvert_exporter": "python",
   "pygments_lexer": "ipython3",
   "version": "3.12.4"
  }
 },
 "nbformat": 4,
 "nbformat_minor": 2
}
